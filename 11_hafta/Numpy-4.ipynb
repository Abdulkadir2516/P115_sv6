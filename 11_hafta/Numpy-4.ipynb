{
 "cells": [
  {
   "cell_type": "code",
   "execution_count": 1,
   "id": "d24bab4d",
   "metadata": {},
   "outputs": [],
   "source": [
    "import numpy as np"
   ]
  },
  {
   "cell_type": "code",
   "execution_count": 2,
   "id": "04c697dd",
   "metadata": {},
   "outputs": [
    {
     "name": "stdout",
     "output_type": "stream",
     "text": [
      "[-26 -50   5 -44 -19  -1 -31  30] \n",
      "\n",
      "[-26  -1  32  13 -10 -24  -4 -28]\n"
     ]
    }
   ],
   "source": [
    "arr1 = np.random.randint(-50,50,8)\n",
    "arr2 = np.random.randint(-50,50,8)\n",
    "print(arr1,\"\\n\")\n",
    "print(arr2)"
   ]
  },
  {
   "cell_type": "code",
   "execution_count": 3,
   "id": "c120d206",
   "metadata": {},
   "outputs": [
    {
     "name": "stdout",
     "output_type": "stream",
     "text": [
      "[-52 -51  37 -31 -29 -25 -35   2] \n",
      "\n",
      "[  0 -49 -27 -57  -9  23 -27  58] \n",
      "\n",
      "[-16 -40  15 -34  -9   9 -21  40] \n",
      "\n",
      "[ 676   50  160 -572  190   24  124 -840] \n",
      "\n",
      "[-260 -500   50 -440 -190  -10 -310  300] \n",
      "\n",
      "[ 1.00000000e+00  5.00000000e+01  1.56250000e-01 -3.38461538e+00\n",
      "  1.90000000e+00  4.16666667e-02  7.75000000e+00 -1.07142857e+00] \n",
      "\n",
      "[-2.6 -5.   0.5 -4.4 -1.9 -0.1 -3.1  3. ] \n",
      "\n"
     ]
    }
   ],
   "source": [
    "# numpy ile matematik işlemleri + - * /\n",
    "print(arr1 + arr2,\"\\n\")\n",
    "print(arr1 - arr2,\"\\n\")\n",
    "print(arr1 + 10,\"\\n\")\n",
    "print(arr1 * arr2,\"\\n\")\n",
    "print(arr1 * 10,\"\\n\")\n",
    "print(arr1 / arr2,\"\\n\")\n",
    "print(arr1 / 10,\"\\n\")\n",
    "\n"
   ]
  },
  {
   "cell_type": "code",
   "execution_count": 4,
   "id": "5cd84fa8",
   "metadata": {},
   "outputs": [
    {
     "name": "stdout",
     "output_type": "stream",
     "text": [
      "[-0.76255845  0.26237485 -0.95892427 -0.01770193 -0.14987721 -0.84147098\n",
      "  0.40403765 -0.98803162] \n",
      "\n",
      "[0.64691932 0.96496603 0.28366219 0.99984331 0.98870462 0.54030231\n",
      " 0.91474236 0.15425145] \n",
      "\n",
      "[26 50  5 44 19  1 31 30] \n",
      "\n",
      "[5.09901951 7.07106781 2.23606798 6.63324958 4.35889894 1.\n",
      " 5.56776436 5.47722558] \n",
      "\n",
      "[3.25809654 3.91202301 1.60943791 3.78418963 2.94443898 0.\n",
      " 3.4339872  3.40119738] \n",
      "\n",
      "[ 676 2500   25 1936  361    1  961  900] \n",
      "\n"
     ]
    }
   ],
   "source": [
    "# numpy ile ileri matematik işlemleri (cos tan kökalma power üs alma gibi matematiksel işlemler)\n",
    "\n",
    "print(np.sin(arr1),\"\\n\")\n",
    "print(np.cos(arr1),\"\\n\")\n",
    "print(np.abs(arr1),\"\\n\")\n",
    "print(np.sqrt(np.abs(arr1)),\"\\n\") \n",
    "print(np.log(np.abs(arr1)),\"\\n\")\n",
    "print(np.power(arr1,2),\"\\n\")\n"
   ]
  },
  {
   "cell_type": "code",
   "execution_count": 16,
   "id": "b9c9e9f7-6a80-4bf1-9f00-3059c84d16e6",
   "metadata": {},
   "outputs": [
    {
     "data": {
      "text/plain": [
       "array([-26, -50,   5, -44, -19,  -1, -31,  30])"
      ]
     },
     "execution_count": 16,
     "metadata": {},
     "output_type": "execute_result"
    }
   ],
   "source": [
    "arr1"
   ]
  },
  {
   "cell_type": "code",
   "execution_count": 17,
   "id": "85343e54-eb36-40ec-9842-d23f4a14f8a5",
   "metadata": {},
   "outputs": [
    {
     "data": {
      "text/plain": [
       "array([0.64691932, 0.96496603, 0.28366219, 0.99984331, 0.98870462,\n",
       "       0.54030231, 0.91474236, 0.15425145])"
      ]
     },
     "execution_count": 17,
     "metadata": {},
     "output_type": "execute_result"
    }
   ],
   "source": [
    "np.cos(arr1)"
   ]
  },
  {
   "cell_type": "code",
   "execution_count": 5,
   "id": "f6a66fb8",
   "metadata": {},
   "outputs": [
    {
     "name": "stdout",
     "output_type": "stream",
     "text": [
      "[-26 -50   5 -44 -19  -1 -31  30] \n",
      "\n",
      "[-26  -1  32  13 -10 -24  -4 -28] \n",
      "\n",
      "2 diziyi yatay olarak birleştirme işlemi \n",
      " [-26 -50   5 -44 -19  -1 -31  30 -26  -1  32  13 -10 -24  -4 -28] \n",
      "\n",
      "2 diziyi dikey olarak birleştirme işlemi \n",
      " [[-26 -50   5 -44 -19  -1 -31  30]\n",
      " [-26  -1  32  13 -10 -24  -4 -28]] \n",
      "\n",
      "2 diziyi yatay olarak birleştirme işlemi \n",
      " [-26 -50   5 -44 -19  -1 -31  30 -26  -1  32  13 -10 -24  -4 -28]\n",
      "2 diziyi karşılık gelen sütunları ile birleştirme işlemi \n",
      " [[-26 -26]\n",
      " [-50  -1]\n",
      " [  5  32]\n",
      " [-44  13]\n",
      " [-19 -10]\n",
      " [ -1 -24]\n",
      " [-31  -4]\n",
      " [ 30 -28]]\n"
     ]
    }
   ],
   "source": [
    "print(arr1,\"\\n\")\n",
    "print(arr2,\"\\n\")\n",
    "#print(\"2 diziyi dikey olarak birleştirme işlemi \\n\",np.concatenate((arr1, arr2),axis=1),\"\\n\")\n",
    "print(\"2 diziyi yatay olarak birleştirme işlemi \\n\",np.concatenate((arr1, arr2)),\"\\n\")\n",
    "print(\"2 diziyi dikey olarak birleştirme işlemi \\n\",np.vstack((arr1,arr2)),\"\\n\")\n",
    "print(\"2 diziyi yatay olarak birleştirme işlemi \\n\",np.hstack((arr1,arr2)))\n",
    "\n",
    "print(\"2 diziyi karşılık gelen sütunları ile birleştirme işlemi \\n\",np.stack((arr1, arr2), axis=1))\n"
   ]
  },
  {
   "cell_type": "markdown",
   "id": "a2f3fc9f",
   "metadata": {},
   "source": [
    "## "
   ]
  },
  {
   "cell_type": "code",
   "execution_count": 22,
   "id": "4d138bf0",
   "metadata": {},
   "outputs": [
    {
     "data": {
      "text/plain": [
       "array([[-10,  -2,   4,  11,  13],\n",
       "       [-14,  -4,  -2,   4,  17],\n",
       "       [ -3,  -2,   9,  11,  16]])"
      ]
     },
     "execution_count": 22,
     "metadata": {},
     "output_type": "execute_result"
    }
   ],
   "source": [
    "newarray = np.random.randint(-20,20,15).reshape(3,5)\n",
    "newarray.sort() # diziyi sıralayı o şekilde bastırdık\n",
    "newarray"
   ]
  },
  {
   "cell_type": "code",
   "execution_count": 23,
   "id": "d4727110",
   "metadata": {},
   "outputs": [
    {
     "data": {
      "text/plain": [
       "array([[ True,  True,  True, False, False],\n",
       "       [ True,  True,  True,  True, False],\n",
       "       [False,  True, False, False,  True]])"
      ]
     },
     "execution_count": 23,
     "metadata": {},
     "output_type": "execute_result"
    }
   ],
   "source": [
    "sonuc = newarray %2 == 0 # dizinin içerisindekilerinin 0 dan büyük olanlarını tespit etme\n",
    "sonuc"
   ]
  },
  {
   "cell_type": "code",
   "execution_count": 25,
   "id": "03c7fce9",
   "metadata": {},
   "outputs": [
    {
     "data": {
      "text/plain": [
       "array([-10,  -2,   4, -14,  -4,  -2,   4,  -2,  16])"
      ]
     },
     "execution_count": 25,
     "metadata": {},
     "output_type": "execute_result"
    }
   ],
   "source": [
    "newarray[sonuc] # ve 0 dan büyük olan elemanlar"
   ]
  },
  {
   "cell_type": "code",
   "execution_count": 26,
   "id": "1893ad12",
   "metadata": {},
   "outputs": [
    {
     "data": {
      "text/plain": [
       "array([-10,  -2,   4, -14,  -4,  -2,   4,  -2,  16])"
      ]
     },
     "execution_count": 26,
     "metadata": {},
     "output_type": "execute_result"
    }
   ],
   "source": [
    "newarray[newarray % 2 == 0] # dizi içerisinde 2 ye tam bölünenler yani çift olanlar"
   ]
  },
  {
   "cell_type": "code",
   "execution_count": null,
   "id": "2e9d21a8",
   "metadata": {},
   "outputs": [],
   "source": []
  }
 ],
 "metadata": {
  "kernelspec": {
   "display_name": "Python 3 (ipykernel)",
   "language": "python",
   "name": "python3"
  },
  "language_info": {
   "codemirror_mode": {
    "name": "ipython",
    "version": 3
   },
   "file_extension": ".py",
   "mimetype": "text/x-python",
   "name": "python",
   "nbconvert_exporter": "python",
   "pygments_lexer": "ipython3",
   "version": "3.11.9"
  }
 },
 "nbformat": 4,
 "nbformat_minor": 5
}
