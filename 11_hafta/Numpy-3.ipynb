{
 "cells": [
  {
   "cell_type": "code",
   "execution_count": 5,
   "id": "e1ca8672",
   "metadata": {},
   "outputs": [],
   "source": [
    "import numpy as np"
   ]
  },
  {
   "cell_type": "code",
   "execution_count": 29,
   "id": "d3bad8a8",
   "metadata": {},
   "outputs": [
    {
     "data": {
      "text/plain": [
       "array([23, 31, 44, 37, 97, 75, 74, 94, 47, 68])"
      ]
     },
     "execution_count": 29,
     "metadata": {},
     "output_type": "execute_result"
    }
   ],
   "source": [
    "arr= np.random.randint(1,100,10)# 1 ile 100 arasında 10 karakterli rastgele dizi oluşturma\n",
    "arr"
   ]
  },
  {
   "cell_type": "code",
   "execution_count": 30,
   "id": "fd166362",
   "metadata": {},
   "outputs": [
    {
     "data": {
      "text/plain": [
       "array([23, 31, 37, 44, 47, 68, 74, 75, 94, 97])"
      ]
     },
     "execution_count": 30,
     "metadata": {},
     "output_type": "execute_result"
    }
   ],
   "source": [
    "arr.sort() # diziyi küçükten büyüğe doğru sıralar\n",
    "arr"
   ]
  },
  {
   "cell_type": "code",
   "execution_count": 31,
   "id": "205f87cb-c1a5-4be9-9bee-a2d63f2e622e",
   "metadata": {},
   "outputs": [
    {
     "data": {
      "text/plain": [
       "array([23, 31, 37, 44, 47, 68, 74, 75, 94, 97])"
      ]
     },
     "execution_count": 31,
     "metadata": {},
     "output_type": "execute_result"
    }
   ],
   "source": [
    "arr"
   ]
  },
  {
   "cell_type": "code",
   "execution_count": 32,
   "id": "f9abf02b-21d2-497a-8879-6d34cd19858e",
   "metadata": {},
   "outputs": [
    {
     "data": {
      "text/plain": [
       "array([23, 31, 37, 44, 47, 68, 74, 75, 94, 97])"
      ]
     },
     "execution_count": 32,
     "metadata": {},
     "output_type": "execute_result"
    }
   ],
   "source": [
    "arr5 = arr.copy()\n",
    "arr5"
   ]
  },
  {
   "cell_type": "code",
   "execution_count": 33,
   "id": "843ab785-188b-4c46-8b8a-ad87ede31934",
   "metadata": {},
   "outputs": [
    {
     "data": {
      "text/plain": [
       "array([23, 31, 18, 44, 47, 68, 74, 75, 94, 97])"
      ]
     },
     "execution_count": 33,
     "metadata": {},
     "output_type": "execute_result"
    }
   ],
   "source": [
    "arr5[2] = 18\n",
    "arr5"
   ]
  },
  {
   "cell_type": "code",
   "execution_count": 34,
   "id": "a53cfb6d-bfd3-4339-ae3e-325dcde751ca",
   "metadata": {},
   "outputs": [
    {
     "data": {
      "text/plain": [
       "array([23, 31, 37, 44, 47, 68, 74, 75, 94, 97])"
      ]
     },
     "execution_count": 34,
     "metadata": {},
     "output_type": "execute_result"
    }
   ],
   "source": [
    "arr"
   ]
  },
  {
   "cell_type": "code",
   "execution_count": 8,
   "id": "18474635",
   "metadata": {},
   "outputs": [
    {
     "data": {
      "text/plain": [
       "array([ 5, 13, 28, 38, 24, 42, 75, 90, 93, 94])"
      ]
     },
     "execution_count": 8,
     "metadata": {},
     "output_type": "execute_result"
    }
   ],
   "source": [
    "arr2 = arr.copy() # arr dizisini arr2 ye kopyalıyor\n",
    "arr2[4] = 24 # arr2 dizisinin ilk elemanını 24 yapıyorum\n",
    "arr2"
   ]
  },
  {
   "cell_type": "code",
   "execution_count": 9,
   "id": "0bca4580",
   "metadata": {},
   "outputs": [
    {
     "data": {
      "text/plain": [
       "array([ 5, 13, 28, 38, 41, 42, 75, 90, 93, 94])"
      ]
     },
     "execution_count": 9,
     "metadata": {},
     "output_type": "execute_result"
    }
   ],
   "source": [
    "arr # arr dizisinde herhangi bir değişiklik yok"
   ]
  },
  {
   "cell_type": "code",
   "execution_count": 10,
   "id": "9e71e48d",
   "metadata": {},
   "outputs": [
    {
     "name": "stdout",
     "output_type": "stream",
     "text": [
      "None\n"
     ]
    }
   ],
   "source": [
    "print(arr2.base) # dizi copyalanmışmı yoksa görüntüsümü alınmış tespit etmek için base fonksiyonu kullanılır \n",
    "# eğer değer none ise kopyalanmış değilse görüntüsü alınmıştır"
   ]
  },
  {
   "cell_type": "code",
   "execution_count": 11,
   "id": "983c5e8e",
   "metadata": {},
   "outputs": [
    {
     "data": {
      "text/plain": [
       "array([ 5, 13, 28, 38, 25, 42, 75, 90, 93, 94])"
      ]
     },
     "execution_count": 11,
     "metadata": {},
     "output_type": "execute_result"
    }
   ],
   "source": [
    "arr2 = arr.view() # arr dizisini arr2 ye kopyalıyor\n",
    "arr2[4] = 25 # arr2 dizisinin ilk elemanını 25 yapıyorum\n",
    "arr2"
   ]
  },
  {
   "cell_type": "code",
   "execution_count": 12,
   "id": "f32f8cb3",
   "metadata": {},
   "outputs": [
    {
     "data": {
      "text/plain": [
       "array([ 5, 13, 28, 38, 25, 42, 75, 90, 93, 94])"
      ]
     },
     "execution_count": 12,
     "metadata": {},
     "output_type": "execute_result"
    }
   ],
   "source": [
    "arr # arr dizisinde arr2 de yaptığım değişiklikler arr üzerinde uygulanmış oluyor"
   ]
  },
  {
   "cell_type": "code",
   "execution_count": 13,
   "id": "49e245b6",
   "metadata": {},
   "outputs": [
    {
     "name": "stdout",
     "output_type": "stream",
     "text": [
      "[ 5 13 28 38 25 42 75 90 93 94]\n"
     ]
    }
   ],
   "source": [
    "print(arr2.base) # dizi copyalanmışmı yoksa görüntüsümü alınmış tespit etmek için base fonksiyonu kullanılır \n",
    "# eğer değer none ise kopyalanmış değilse görüntüsü alınmıştır"
   ]
  },
  {
   "cell_type": "code",
   "execution_count": 14,
   "id": "37426fd6",
   "metadata": {},
   "outputs": [
    {
     "data": {
      "text/plain": [
       "array([[[21, 20, 49, 46, 15, 31]],\n",
       "\n",
       "       [[33,  8, 49, 44, 33, 47]]])"
      ]
     },
     "execution_count": 14,
     "metadata": {},
     "output_type": "execute_result"
    }
   ],
   "source": [
    "# 3 boyutlu elemanları rastgele olan 2ye 6lık bir dizi 2 satır 6 sütun\n",
    "newarr=np.random.randint(1,50,6)\n",
    "\n",
    "newarr"
   ]
  },
  {
   "cell_type": "code",
   "execution_count": 15,
   "id": "686ed94a",
   "metadata": {},
   "outputs": [
    {
     "data": {
      "text/plain": [
       "array([[[15, 20, 21, 31, 46, 49]],\n",
       "\n",
       "       [[ 8, 33, 33, 44, 47, 49]]])"
      ]
     },
     "execution_count": 15,
     "metadata": {},
     "output_type": "execute_result"
    }
   ],
   "source": [
    "newarr.sort() # diziyi küçükten büyüğe doğru sıralar\n",
    "newarr"
   ]
  },
  {
   "cell_type": "code",
   "execution_count": 16,
   "id": "5e5b32f4",
   "metadata": {},
   "outputs": [
    {
     "data": {
      "text/plain": [
       "array([[23, 53, 54, 75, 93, 98]])"
      ]
     },
     "execution_count": 16,
     "metadata": {},
     "output_type": "execute_result"
    }
   ],
   "source": [
    "newarr.sum(axis=0) # çok boyutlu dizilerde satır ve sütun olayı vardır buradaki sütunların toplamını verir"
   ]
  },
  {
   "cell_type": "code",
   "execution_count": 17,
   "id": "df23d6ea",
   "metadata": {},
   "outputs": [
    {
     "name": "stdout",
     "output_type": "stream",
     "text": [
      "[[15 20 21]\n",
      " [31 46 49]\n",
      " [ 8 33 33]\n",
      " [44 47 49]] \n",
      "\n",
      "[ 98 146 152] \n",
      "\n",
      "[ 56 126  74 140] \n",
      "\n"
     ]
    }
   ],
   "source": [
    "newarr = newarr.reshape(4,3)\n",
    "print(newarr,\"\\n\")\n",
    "\n",
    "print(newarr.sum(axis=0),\"\\n\") # sütunların toplamı\n",
    "\n",
    "print(newarr.sum(axis=1),\"\\n\") # satırların toplamı"
   ]
  },
  {
   "cell_type": "code",
   "execution_count": 18,
   "id": "8aea3f4a",
   "metadata": {},
   "outputs": [
    {
     "data": {
      "text/plain": [
       "array([ 98, 146, 152])"
      ]
     },
     "execution_count": 18,
     "metadata": {},
     "output_type": "execute_result"
    }
   ],
   "source": [
    "newarr.sum(axis=0) # sütunların toplamı"
   ]
  },
  {
   "cell_type": "code",
   "execution_count": 19,
   "id": "26b1fcad",
   "metadata": {},
   "outputs": [
    {
     "data": {
      "text/plain": [
       "array([ 56, 126,  74, 140])"
      ]
     },
     "execution_count": 19,
     "metadata": {},
     "output_type": "execute_result"
    }
   ],
   "source": [
    "newarr.sum(axis=1) # satırların toplamı"
   ]
  }
 ],
 "metadata": {
  "kernelspec": {
   "display_name": "Python 3 (ipykernel)",
   "language": "python",
   "name": "python3"
  },
  "language_info": {
   "codemirror_mode": {
    "name": "ipython",
    "version": 3
   },
   "file_extension": ".py",
   "mimetype": "text/x-python",
   "name": "python",
   "nbconvert_exporter": "python",
   "pygments_lexer": "ipython3",
   "version": "3.11.9"
  }
 },
 "nbformat": 4,
 "nbformat_minor": 5
}
